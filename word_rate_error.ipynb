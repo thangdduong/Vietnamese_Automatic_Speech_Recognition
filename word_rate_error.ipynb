{
  "nbformat": 4,
  "nbformat_minor": 0,
  "metadata": {
    "colab": {
      "name": "word rate error.ipynb",
      "provenance": []
    },
    "kernelspec": {
      "name": "python3",
      "display_name": "Python 3"
    },
    "language_info": {
      "name": "python"
    }
  },
  "cells": [
    {
      "cell_type": "markdown",
      "source": [
        "# Implement edit distance using dynamic programming"
      ],
      "metadata": {
        "id": "nEHsVsPfI9aB"
      }
    },
    {
      "cell_type": "code",
      "source": [
        "# source: https://www.geeksforgeeks.org/edit-distance-dp-5/\n",
        "def edit_distance(correct_transcription, hypothesized_transcription, visualize=False):\n",
        "  string1 = correct_transcription\n",
        "  string2 = hypothesized_transcription\n",
        "  m = len(string1)\n",
        "  n = len(string2)\n",
        "  dp = [[0 for i in range(n + 1)] for i in range(m + 1)]\n",
        "  for i in range(m + 1):\n",
        "    dp[i][0] = i\n",
        "  for i in range(n + 1):\n",
        "    dp[0][i] = i\n",
        "  for i in range(1, m + 1):\n",
        "    for j in range(1, n + 1):\n",
        "      if string1[i - 1] == string2[j - 1]:\n",
        "        cost = 0\n",
        "      else:\n",
        "        cost = 1\n",
        "      deletions = dp[i - 1][j] + 1\n",
        "      insertions = dp[i][j - 1] + 1\n",
        "      substitutions = dp[i - 1][j - 1] + cost\n",
        "      choose = min(('substitutions',substitutions), ('deletions', deletions), ('insertions', insertions), key=lambda x:x[1])\n",
        "      dp[i][j] = choose[1]\n",
        "\n",
        "  if visualize == True:\n",
        "    import pandas as pd\n",
        "    print(\"Edit distance table: \")\n",
        "    row_name = list('#' + string1)\n",
        "    column_name = list(' ' + '#' + string2)\n",
        "    data = [[row_name[i], *dp[i]] for i in range(len(row_name))]\n",
        "    df = pd.DataFrame(data, columns=column_name)\n",
        "    print(df)\n",
        "\n",
        "  return dp[m][n]"
      ],
      "metadata": {
        "id": "nOQgR5CNFArw"
      },
      "execution_count": 21,
      "outputs": []
    },
    {
      "cell_type": "markdown",
      "source": [
        "# $\\text{word rate error} = \\frac{D + I + S}{len(string1)}$"
      ],
      "metadata": {
        "id": "jZ13p2yXzyWn"
      }
    },
    {
      "cell_type": "code",
      "source": [
        "string1 = \"xin chào bạn\" # correct transcription\n",
        "string2 = \"xi trà bạn\" # hypothesized transcription\n",
        "edit_dist = edit_distance(string1, string2, visualize=True) # edit_distance = D + I + S\n",
        "word_rate_error = edit_dist / len(string1)\n",
        "print(f\"word rate error of hypothesized word: {(100 * word_rate_error):0.3f}%\")"
      ],
      "metadata": {
        "colab": {
          "base_uri": "https://localhost:8080/"
        },
        "id": "gLOo83YgzQHu",
        "outputId": "1edbc7b0-047a-4bdd-9263-6d304e2f82bc"
      },
      "execution_count": 33,
      "outputs": [
        {
          "output_type": "stream",
          "name": "stdout",
          "text": [
            "Edit distance table: \n",
            "        #   x   i     t  r  à     b  ạ   n\n",
            "0   #   0   1   2  3  4  5  6  7  8  9  10\n",
            "1   x   1   0   1  2  3  4  5  6  7  8   9\n",
            "2   i   2   1   0  1  2  3  4  5  6  7   8\n",
            "3   n   3   2   1  1  2  3  4  5  6  7   7\n",
            "4       4   3   2  1  2  3  4  4  5  6   7\n",
            "5   c   5   4   3  2  2  3  4  5  5  6   7\n",
            "6   h   6   5   4  3  3  3  4  5  6  6   7\n",
            "7   à   7   6   5  4  4  4  3  4  5  6   7\n",
            "8   o   8   7   6  5  5  5  4  4  5  6   7\n",
            "9       9   8   7  6  6  6  5  4  5  6   7\n",
            "10  b  10   9   8  7  7  7  6  5  4  5   6\n",
            "11  ạ  11  10   9  8  8  8  7  6  5  4   5\n",
            "12  n  12  11  10  9  9  9  8  7  6  5   4\n",
            "word rate error of hypothesized word: 33.333%\n"
          ]
        }
      ]
    },
    {
      "cell_type": "markdown",
      "source": [
        "# Use ___editdistance___ library"
      ],
      "metadata": {
        "id": "4dY7jfVQI2Xe"
      }
    },
    {
      "cell_type": "code",
      "source": [
        "pip install editdistance==0.3.1"
      ],
      "metadata": {
        "colab": {
          "base_uri": "https://localhost:8080/"
        },
        "id": "42lTEooeIVZH",
        "outputId": "d9c46407-69ff-4b9c-e3a9-c57329039331"
      },
      "execution_count": 1,
      "outputs": [
        {
          "output_type": "stream",
          "name": "stdout",
          "text": [
            "Collecting editdistance==0.3.1\n",
            "  Downloading editdistance-0.3.1.tar.gz (19 kB)\n",
            "Building wheels for collected packages: editdistance\n",
            "  Building wheel for editdistance (setup.py) ... \u001b[?25l\u001b[?25hdone\n",
            "  Created wheel for editdistance: filename=editdistance-0.3.1-cp37-cp37m-linux_x86_64.whl size=187855 sha256=4d0fe6d9936986499fc19571e7be4491eed03a931d9e21ac68a36c7b553a40eb\n",
            "  Stored in directory: /root/.cache/pip/wheels/a9/9e/6f/0c07a94bbfae707c540b9cd2d7be284e0bc02ecd1234a3b6ed\n",
            "Successfully built editdistance\n",
            "Installing collected packages: editdistance\n",
            "  Attempting uninstall: editdistance\n",
            "    Found existing installation: editdistance 0.5.3\n",
            "    Uninstalling editdistance-0.5.3:\n",
            "      Successfully uninstalled editdistance-0.5.3\n",
            "Successfully installed editdistance-0.3.1\n"
          ]
        }
      ]
    },
    {
      "cell_type": "code",
      "source": [
        "import editdistance\n",
        "string1 = \"Xin chào các bạn\"\n",
        "string2 = \"Xin trào các bạ\"\n",
        "print(editdistance.eval(string1, string2))"
      ],
      "metadata": {
        "colab": {
          "base_uri": "https://localhost:8080/"
        },
        "id": "PsF80z86IWsw",
        "outputId": "f33caf8e-1826-4c00-be09-36ae376ab32e"
      },
      "execution_count": 2,
      "outputs": [
        {
          "output_type": "stream",
          "name": "stdout",
          "text": [
            "3\n"
          ]
        }
      ]
    }
  ]
}